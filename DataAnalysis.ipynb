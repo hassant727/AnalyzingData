# Importing libraries
import matplotlib.pyplot as plt
import pandas as pd
import numpy as np

# Reading in the data
df = pd.read_csv("hospital_data.csv")
df.head()

# Get rid of whitespaces
df.columns = df.columns.str.strip()
df.columns

# Look at the diffierent data types to see what transformations you might have to do
df.dtypes

# Change datatype of columns from object to datetime
df['Date'] = pd.to_datetime(df['Date'])
df['Post-Consultation Time'] = pd.to_datetime(df['Post-Consultation Time'])
df['Entry Time'] = pd.to_datetime(df['Entry Time'])
df['Completetion Time'] = pd.to_datetime(df['Completion Time'])
df.dtypes

# Function to clean text
def purge(p):
    # remove the dollar sign and replace with nothing
    p = p.replace('$', '')
    # remove commas and replace with nothing
    p = p.replace(',', '')
    # remove dash and repalce with nothing
    p = p.replace('-', '')
    # remove space and repacle with nothing
    p = p.replace(' ', '')
    # change to float numeric value
    p = pd.to_numeric(p)
    return p

df['Medication Revenue'] = df['Medication Revenue'].apply(purge)
df.head()

# Apply function to required columns
df['Consultation Revenue'] = df['Consultation Revenue'].apply(purge)
df['Lab Cost'] = df['Lab Cost'].apply(purge)
df.dtypes

# Create new column - Total Revenue
df['Total Revenue'] = df['Medication Revenue'] + df['Consultation Revenue'] + df['Lab Cost']
df.head()
