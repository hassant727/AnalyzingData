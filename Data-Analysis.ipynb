# Importing libraries
import matplotlib.pyplot as plt
import pandas as pd
import numpy as np

# Reading in the data
df = pd.read_csv("hospital_data.csv")
df.head()

# Get rid of whitespaces
df.columns = df.columns.str.strip()
df.columns

# Look at the diffierent data types to see what transformations you might have to do
df.dtypes

# Change datatype of columns from object to datetime
df['Date'] = pd.to_datetime(df['Date'])
df['Post-Consultation Time'] = pd.to_datetime(df['Post-Consultation Time'])
df['Entry Time'] = pd.to_datetime(df['Entry Time'])
df['Completetion Time'] = pd.to_datetime(df['Completion Time'])
df.dtypes
