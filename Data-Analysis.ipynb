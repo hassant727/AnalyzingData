# Importing libraries
import matplotlib.pyplot as plt
import pandas as pd
import numpy as np

# Reading in the data
df = pd.read_csv("hospital_data.csv")
df.head()
